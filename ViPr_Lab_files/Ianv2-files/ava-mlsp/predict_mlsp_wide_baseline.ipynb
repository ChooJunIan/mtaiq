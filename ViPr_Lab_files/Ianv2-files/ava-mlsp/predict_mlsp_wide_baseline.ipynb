{
 "cells": [
  {
   "cell_type": "markdown",
   "metadata": {
    "colab_type": "text",
    "id": "view-in-github"
   },
   "source": [
    "<a href=\"https://colab.research.google.com/github/subpic/ava-mlsp/blob/master/predict_mlsp_wide.ipynb\" target=\"_parent\"><img src=\"https://colab.research.google.com/assets/colab-badge.svg\" alt=\"Open In Colab\"/></a>"
   ]
  },
  {
   "cell_type": "markdown",
   "metadata": {
    "id": "ss3wYJoucEdt"
   },
   "source": [
    "### download libraries and model"
   ]
  },
  {
   "cell_type": "markdown",
   "metadata": {
    "id": "9mg58PzZhhQf"
   },
   "source": [
    "What follows is a trivially modified version of ava-mlsp/predict_mlsp_wide.ipynb:"
   ]
  },
  {
   "cell_type": "code",
   "execution_count": 1,
   "metadata": {
    "colab": {
     "base_uri": "https://localhost:8080/"
    },
    "id": "ym94loh-cEdu",
    "outputId": "f962b688-2ed2-45b2-917b-d7ab3cb5fa86"
   },
   "outputs": [
    {
     "name": "stdout",
     "output_type": "stream",
     "text": [
      "Loaded Kuti\n"
     ]
    }
   ],
   "source": [
    "import kuti\n",
    "from kuti import model_helper as mh\n",
    "from kuti import applications as apps\n",
    "from kuti import tensor_ops as ops\n",
    "from kuti import generic as gen\n",
    "from kuti import image_utils as img\n",
    "import pandas as pd, numpy as np, os\n",
    "from sklearn.metrics import r2_score"
   ]
  },
  {
   "cell_type": "code",
   "execution_count": 2,
   "metadata": {},
   "outputs": [],
   "source": [
    "import scipy \n",
    "\n",
    "def plcc(x, y):\n",
    "    '''Pearson Linear Correlation Coefficient'''\n",
    "    x, y = np.float32(x), np.float32(y)\n",
    "    return scipy.stats.pearsonr(x,y)[0]\n",
    "\n",
    "def srocc(xs, ys):\n",
    "    '''Spearman Rank Order Correlation Coefficient'''\n",
    "    xranks = pd.Series(xs).rank()\n",
    "    yranks = pd.Series(ys).rank()\n",
    "    return (xranks, yranks)"
   ]
  },
  {
   "cell_type": "code",
   "execution_count": 3,
   "metadata": {
    "id": "i_9cAO9z5GK0"
   },
   "outputs": [],
   "source": [
    "# define the MLSP wide model (updated from kuti.applications)\n",
    "from kuti.applications import InceptionResNetV2, Lambda, tf, Concatenate, Model,\\\n",
    "Input, GlobalAveragePooling2D\n",
    "\n",
    "def model_inceptionresnet_pooled(input_shape=(None, None, 3), indexes=list(range(43)),\n",
    "                                 pool_size=(5, 5), name='', return_sizes=False):\n",
    "    \"\"\"\n",
    "    Returns the wide MLSP features, spatially pooled, from InceptionResNetV2.\n",
    "    * input_shape: shape of the input images\n",
    "    * indexes: indices of the modules to use\n",
    "    * pool_size: spatial extend of the MLSP features\n",
    "    * name: name of the model\n",
    "    * return_sizes: return the sizes of each layer: (model, pool_sizes)\n",
    "    :return: model or (model, pool_sizes)\n",
    "    \"\"\"\n",
    "\n",
    "    print('Loading InceptionResNetV2 multi-pooled with input_shape:', input_shape)\n",
    "    model_base = InceptionResNetV2(weights     = 'imagenet',\n",
    "                                   include_top = False,\n",
    "                                   input_shape = input_shape)\n",
    "    print('Creating multi-pooled model')\n",
    "\n",
    "    ImageResizer = Lambda(lambda x: tf.image.resize(x, pool_size, method='area'),\n",
    "                          name='feature_resizer')\n",
    "\n",
    "    feature_layers = [l for l in model_base.layers if 'mixed' in l.name]\n",
    "    feature_layers = [feature_layers[i] for i in indexes]\n",
    "    pools = [ImageResizer(l.output) for l in feature_layers]\n",
    "    conc_pools = Concatenate(name='conc_pools', axis=3)(pools)\n",
    "\n",
    "    model = Model(inputs  = model_base.input, outputs = conc_pools)\n",
    "    if name: model.name = name\n",
    "\n",
    "    if return_sizes:\n",
    "        pool_sizes = [[np.int32(x) for x in f.get_shape()[1:]] for f in pools]\n",
    "        return model, pool_sizes\n",
    "    else:\n",
    "        return model"
   ]
  },
  {
   "attachments": {},
   "cell_type": "markdown",
   "metadata": {},
   "source": [
    "## GET2/3 Files prediction "
   ]
  },
  {
   "cell_type": "code",
   "execution_count": 4,
   "metadata": {},
   "outputs": [
    {
     "name": "stdout",
     "output_type": "stream",
     "text": [
      "ID for PARA Dataset\n"
     ]
    },
    {
     "data": {
      "text/html": [
       "<div>\n",
       "<style scoped>\n",
       "    .dataframe tbody tr th:only-of-type {\n",
       "        vertical-align: middle;\n",
       "    }\n",
       "\n",
       "    .dataframe tbody tr th {\n",
       "        vertical-align: top;\n",
       "    }\n",
       "\n",
       "    .dataframe thead th {\n",
       "        text-align: right;\n",
       "    }\n",
       "</style>\n",
       "<table border=\"1\" class=\"dataframe\">\n",
       "  <thead>\n",
       "    <tr style=\"text-align: right;\">\n",
       "      <th></th>\n",
       "      <th>sessionId</th>\n",
       "      <th>imageName</th>\n",
       "      <th>aestheticScore</th>\n",
       "      <th>qualityScore</th>\n",
       "      <th>sessionId_imageName</th>\n",
       "      <th>set</th>\n",
       "    </tr>\n",
       "  </thead>\n",
       "  <tbody>\n",
       "    <tr>\n",
       "      <th>0</th>\n",
       "      <td>session328</td>\n",
       "      <td>iaa_pub22893_.jpg</td>\n",
       "      <td>1.980000</td>\n",
       "      <td>2.084000</td>\n",
       "      <td>session328_iaa_pub22893_.jpg</td>\n",
       "      <td>training</td>\n",
       "    </tr>\n",
       "    <tr>\n",
       "      <th>1</th>\n",
       "      <td>session232</td>\n",
       "      <td>iaa_pub16180_.jpg</td>\n",
       "      <td>3.720000</td>\n",
       "      <td>3.840000</td>\n",
       "      <td>session232_iaa_pub16180_.jpg</td>\n",
       "      <td>training</td>\n",
       "    </tr>\n",
       "    <tr>\n",
       "      <th>2</th>\n",
       "      <td>session125</td>\n",
       "      <td>iaa_pub8721_.jpg</td>\n",
       "      <td>2.900000</td>\n",
       "      <td>3.052000</td>\n",
       "      <td>session125_iaa_pub8721_.jpg</td>\n",
       "      <td>training</td>\n",
       "    </tr>\n",
       "    <tr>\n",
       "      <th>3</th>\n",
       "      <td>session139</td>\n",
       "      <td>iaa_pub9725_.jpg</td>\n",
       "      <td>3.120000</td>\n",
       "      <td>3.356000</td>\n",
       "      <td>session139_iaa_pub9725_.jpg</td>\n",
       "      <td>training</td>\n",
       "    </tr>\n",
       "    <tr>\n",
       "      <th>4</th>\n",
       "      <td>session79</td>\n",
       "      <td>iaa_pub5474_.jpg</td>\n",
       "      <td>3.840000</td>\n",
       "      <td>3.932000</td>\n",
       "      <td>session79_iaa_pub5474_.jpg</td>\n",
       "      <td>training</td>\n",
       "    </tr>\n",
       "    <tr>\n",
       "      <th>...</th>\n",
       "      <td>...</td>\n",
       "      <td>...</td>\n",
       "      <td>...</td>\n",
       "      <td>...</td>\n",
       "      <td>...</td>\n",
       "      <td>...</td>\n",
       "    </tr>\n",
       "    <tr>\n",
       "      <th>31215</th>\n",
       "      <td>session7</td>\n",
       "      <td>iaa_pub484_.jpg</td>\n",
       "      <td>3.540000</td>\n",
       "      <td>3.664000</td>\n",
       "      <td>session7_iaa_pub484_.jpg</td>\n",
       "      <td>validation</td>\n",
       "    </tr>\n",
       "    <tr>\n",
       "      <th>31216</th>\n",
       "      <td>session68</td>\n",
       "      <td>iaa_pub4700_.jpg</td>\n",
       "      <td>2.640000</td>\n",
       "      <td>2.984000</td>\n",
       "      <td>session68_iaa_pub4700_.jpg</td>\n",
       "      <td>validation</td>\n",
       "    </tr>\n",
       "    <tr>\n",
       "      <th>31217</th>\n",
       "      <td>session20</td>\n",
       "      <td>iaa_pub1377_.jpg</td>\n",
       "      <td>3.340000</td>\n",
       "      <td>3.428000</td>\n",
       "      <td>session20_iaa_pub1377_.jpg</td>\n",
       "      <td>validation</td>\n",
       "    </tr>\n",
       "    <tr>\n",
       "      <th>31218</th>\n",
       "      <td>session64</td>\n",
       "      <td>iaa_pub4477_.jpg</td>\n",
       "      <td>3.464286</td>\n",
       "      <td>3.607143</td>\n",
       "      <td>session64_iaa_pub4477_.jpg</td>\n",
       "      <td>validation</td>\n",
       "    </tr>\n",
       "    <tr>\n",
       "      <th>31219</th>\n",
       "      <td>session414</td>\n",
       "      <td>iaa_pub28925_.jpg</td>\n",
       "      <td>3.270833</td>\n",
       "      <td>3.495833</td>\n",
       "      <td>session414_iaa_pub28925_.jpg</td>\n",
       "      <td>validation</td>\n",
       "    </tr>\n",
       "  </tbody>\n",
       "</table>\n",
       "<p>31220 rows × 6 columns</p>\n",
       "</div>"
      ],
      "text/plain": [
       "        sessionId          imageName  aestheticScore  qualityScore  \\\n",
       "0      session328  iaa_pub22893_.jpg        1.980000      2.084000   \n",
       "1      session232  iaa_pub16180_.jpg        3.720000      3.840000   \n",
       "2      session125   iaa_pub8721_.jpg        2.900000      3.052000   \n",
       "3      session139   iaa_pub9725_.jpg        3.120000      3.356000   \n",
       "4       session79   iaa_pub5474_.jpg        3.840000      3.932000   \n",
       "...           ...                ...             ...           ...   \n",
       "31215    session7    iaa_pub484_.jpg        3.540000      3.664000   \n",
       "31216   session68   iaa_pub4700_.jpg        2.640000      2.984000   \n",
       "31217   session20   iaa_pub1377_.jpg        3.340000      3.428000   \n",
       "31218   session64   iaa_pub4477_.jpg        3.464286      3.607143   \n",
       "31219  session414  iaa_pub28925_.jpg        3.270833      3.495833   \n",
       "\n",
       "                sessionId_imageName         set  \n",
       "0      session328_iaa_pub22893_.jpg    training  \n",
       "1      session232_iaa_pub16180_.jpg    training  \n",
       "2       session125_iaa_pub8721_.jpg    training  \n",
       "3       session139_iaa_pub9725_.jpg    training  \n",
       "4        session79_iaa_pub5474_.jpg    training  \n",
       "...                             ...         ...  \n",
       "31215      session7_iaa_pub484_.jpg  validation  \n",
       "31216    session68_iaa_pub4700_.jpg  validation  \n",
       "31217    session20_iaa_pub1377_.jpg  validation  \n",
       "31218    session64_iaa_pub4477_.jpg  validation  \n",
       "31219  session414_iaa_pub28925_.jpg  validation  \n",
       "\n",
       "[31220 rows x 6 columns]"
      ]
     },
     "execution_count": 4,
     "metadata": {},
     "output_type": "execute_result"
    }
   ],
   "source": [
    "root_path = '/media/workstation/0832621B32620DCE/Ian/'\n",
    "dataset = root_path + 'mtaiq/PARA_MTAIQ_All_User_official_dataset.csv'\n",
    "images_path = '/media/workstation/0832621B32620DCE/PARA_Dataset/PARA/PARA_resized/'\n",
    "ids = pd.read_csv(dataset)\n",
    "\n",
    "print('ID for PARA Dataset')\n",
    "ids"
   ]
  },
  {
   "attachments": {},
   "cell_type": "markdown",
   "metadata": {},
   "source": [
    "## Load GET2/3 combined model"
   ]
  },
  {
   "attachments": {},
   "cell_type": "markdown",
   "metadata": {},
   "source": [
    "### Aesthetic Score prediction"
   ]
  },
  {
   "cell_type": "code",
   "execution_count": 9,
   "metadata": {},
   "outputs": [
    {
     "name": "stdout",
     "output_type": "stream",
     "text": [
      "Loading InceptionResNetV2 multi-pooled with input_shape: (None, None, 3)\n"
     ]
    },
    {
     "name": "stderr",
     "output_type": "stream",
     "text": [
      "2023-02-07 01:48:30.815781: I tensorflow/stream_executor/cuda/cuda_gpu_executor.cc:936] successful NUMA node read from SysFS had negative value (-1), but there must be at least one NUMA node, so returning NUMA node zero\n",
      "2023-02-07 01:48:30.837159: I tensorflow/stream_executor/cuda/cuda_gpu_executor.cc:936] successful NUMA node read from SysFS had negative value (-1), but there must be at least one NUMA node, so returning NUMA node zero\n",
      "2023-02-07 01:48:30.837322: I tensorflow/stream_executor/cuda/cuda_gpu_executor.cc:936] successful NUMA node read from SysFS had negative value (-1), but there must be at least one NUMA node, so returning NUMA node zero\n",
      "2023-02-07 01:48:30.837869: I tensorflow/core/platform/cpu_feature_guard.cc:151] This TensorFlow binary is optimized with oneAPI Deep Neural Network Library (oneDNN) to use the following CPU instructions in performance-critical operations:  SSE4.1 SSE4.2 AVX AVX2 FMA\n",
      "To enable them in other operations, rebuild TensorFlow with the appropriate compiler flags.\n",
      "2023-02-07 01:48:30.838136: I tensorflow/stream_executor/cuda/cuda_gpu_executor.cc:936] successful NUMA node read from SysFS had negative value (-1), but there must be at least one NUMA node, so returning NUMA node zero\n",
      "2023-02-07 01:48:30.838263: I tensorflow/stream_executor/cuda/cuda_gpu_executor.cc:936] successful NUMA node read from SysFS had negative value (-1), but there must be at least one NUMA node, so returning NUMA node zero\n",
      "2023-02-07 01:48:30.838374: I tensorflow/stream_executor/cuda/cuda_gpu_executor.cc:936] successful NUMA node read from SysFS had negative value (-1), but there must be at least one NUMA node, so returning NUMA node zero\n",
      "2023-02-07 01:48:31.287202: I tensorflow/stream_executor/cuda/cuda_gpu_executor.cc:936] successful NUMA node read from SysFS had negative value (-1), but there must be at least one NUMA node, so returning NUMA node zero\n",
      "2023-02-07 01:48:31.287424: I tensorflow/stream_executor/cuda/cuda_gpu_executor.cc:936] successful NUMA node read from SysFS had negative value (-1), but there must be at least one NUMA node, so returning NUMA node zero\n",
      "2023-02-07 01:48:31.287562: I tensorflow/stream_executor/cuda/cuda_gpu_executor.cc:936] successful NUMA node read from SysFS had negative value (-1), but there must be at least one NUMA node, so returning NUMA node zero\n",
      "2023-02-07 01:48:31.287673: I tensorflow/core/common_runtime/gpu/gpu_device.cc:1525] Created device /job:localhost/replica:0/task:0/device:GPU:0 with 9953 MB memory:  -> device: 0, name: NVIDIA GeForce GTX 1080 Ti, pci bus id: 0000:01:00.0, compute capability: 6.1\n"
     ]
    },
    {
     "name": "stdout",
     "output_type": "stream",
     "text": [
      "Creating multi-pooled model\n",
      "InceptionResNetV2 loaded\n",
      "Model weights loaded: /mnt/956cc712-57b2-4a24-b574-3a113e957774/Ian_temp/models_all_user_aestheticScore_baseline/irnv2_mlsp_wide_orig/bn:2 bsz:128 do:[0.25,0.25,0.5,0] ds:[PARA_MTAIQ_All_User_official_da fc1:[2048] i:1[5,5,16928] im:[orig] l:[MSE] mon:[val_plcc_tf] o:1[1]_best_weights.h5\n"
     ]
    }
   ],
   "source": [
    "# load base model\n",
    "model_name = 'mlsp_wide_orig'\n",
    "input_shape = (None, None, 3)\n",
    "model_base = model_inceptionresnet_pooled(input_shape)\n",
    "pre = apps.process_input[apps.InceptionResNetV2]\n",
    "print(\"InceptionResNetV2 loaded\")\n",
    "\n",
    "# MODEL DEF\n",
    "input_feats = Input(shape=(5,5,16928), dtype='float32')\n",
    "x = apps.inception_block(input_feats, size=1024)\n",
    "x = GlobalAveragePooling2D(name='final_GAP')(x)\n",
    "\n",
    "fc1_size = 2048\n",
    "bn = 2\n",
    "fc_sizes = [fc1_size, fc1_size/2, fc1_size/8,  1]\n",
    "dropout_rates = [0.25, 0.25, 0.5, 0]\n",
    "\n",
    "pred_aesthetic = apps.fc_layers(x, name       = 'head_aesthetic',\n",
    "                                fc_sizes      = fc_sizes,\n",
    "                                dropout_rates = dropout_rates,\n",
    "                                batch_norm    = bn)\n",
    "\n",
    "# pred_quality = apps.fc_layers(x, name       = 'head_quality',\n",
    "#                               fc_sizes      = fc_sizes,\n",
    "#                               dropout_rates = dropout_rates,\n",
    "#                               batch_norm    = bn)                          \n",
    "\n",
    "model = Model(inputs=input_feats, outputs=pred_aesthetic) #\n",
    "\n",
    "gen_params = dict(batch_size    = 1,\n",
    "                  data_path     = images_path,                  \n",
    "                  process_fn    = pre,\n",
    "                  input_shape   = input_shape,\n",
    "                  inputs        = ['sessionId_imageName'],\n",
    "                  outputs       = ['aestheticScore'], \n",
    "                  fixed_batches = False)\n",
    "\n",
    "helper = mh.ModelHelper(model, model_name, ids, \n",
    "                        gen_params = gen_params)\n",
    "\n",
    "# print(helper.params.models_roots)\n",
    "# load head model\n",
    "helper.load_model(model_name = '/mnt/956cc712-57b2-4a24-b574-3a113e957774/Ian_temp/models_all_user_aestheticScore_baseline/irnv2_mlsp_wide_orig/bn:2 bsz:128 do:[0.25,0.25,0.5,0] ds:[PARA_MTAIQ_All_User_official_da fc1:[2048] i:1[5,5,16928] im:[orig] l:[MSE] mon:[val_plcc_tf] o:1[1]')\n",
    "\n",
    "# join base and head models\n",
    "helper.model = Model(inputs  = model_base.input, \n",
    "                     outputs = model(model_base.output))"
   ]
  },
  {
   "attachments": {},
   "cell_type": "markdown",
   "metadata": {},
   "source": [
    "#### Predict the score of mutliple images"
   ]
  },
  {
   "cell_type": "code",
   "execution_count": 10,
   "metadata": {},
   "outputs": [
    {
     "name": "stderr",
     "output_type": "stream",
     "text": [
      "2023-02-07 01:49:04.915621: I tensorflow/stream_executor/cuda/cuda_dnn.cc:368] Loaded cuDNN version 8201\n",
      "2023-02-07 01:49:05.180011: W tensorflow/stream_executor/gpu/asm_compiler.cc:111] *** WARNING *** You are using ptxas 10.0.145, which is older than 11.1. ptxas before 11.1 is known to miscompile XLA code, leading to incorrect results or invalid-address errors.\n",
      "\n",
      "You may not need to update to CUDA 11.1; cherry-picking the ptxas binary is often sufficient.\n"
     ]
    },
    {
     "data": {
      "text/html": [
       "<div>\n",
       "<style scoped>\n",
       "    .dataframe tbody tr th:only-of-type {\n",
       "        vertical-align: middle;\n",
       "    }\n",
       "\n",
       "    .dataframe tbody tr th {\n",
       "        vertical-align: top;\n",
       "    }\n",
       "\n",
       "    .dataframe thead th {\n",
       "        text-align: right;\n",
       "    }\n",
       "</style>\n",
       "<table border=\"1\" class=\"dataframe\">\n",
       "  <thead>\n",
       "    <tr style=\"text-align: right;\">\n",
       "      <th></th>\n",
       "      <th>sessionId</th>\n",
       "      <th>imageName</th>\n",
       "      <th>aestheticScore</th>\n",
       "      <th>qualityScore</th>\n",
       "      <th>sessionId_imageName</th>\n",
       "      <th>set</th>\n",
       "      <th>pred_aesthetic</th>\n",
       "    </tr>\n",
       "  </thead>\n",
       "  <tbody>\n",
       "    <tr>\n",
       "      <th>0</th>\n",
       "      <td>session46</td>\n",
       "      <td>iaa_pub3212_.jpg</td>\n",
       "      <td>3.596154</td>\n",
       "      <td>3.673077</td>\n",
       "      <td>session46_iaa_pub3212_.jpg</td>\n",
       "      <td>test</td>\n",
       "      <td>3.146431</td>\n",
       "    </tr>\n",
       "    <tr>\n",
       "      <th>1</th>\n",
       "      <td>session428</td>\n",
       "      <td>iaa_pub29948_.jpg</td>\n",
       "      <td>2.900000</td>\n",
       "      <td>3.008000</td>\n",
       "      <td>session428_iaa_pub29948_.jpg</td>\n",
       "      <td>test</td>\n",
       "      <td>3.110600</td>\n",
       "    </tr>\n",
       "    <tr>\n",
       "      <th>2</th>\n",
       "      <td>session108</td>\n",
       "      <td>iaa_pub7516_.jpg</td>\n",
       "      <td>2.360000</td>\n",
       "      <td>2.496000</td>\n",
       "      <td>session108_iaa_pub7516_.jpg</td>\n",
       "      <td>test</td>\n",
       "      <td>2.454775</td>\n",
       "    </tr>\n",
       "    <tr>\n",
       "      <th>3</th>\n",
       "      <td>session23</td>\n",
       "      <td>iaa_pub1608_.jpg</td>\n",
       "      <td>3.940000</td>\n",
       "      <td>4.040000</td>\n",
       "      <td>session23_iaa_pub1608_.jpg</td>\n",
       "      <td>test</td>\n",
       "      <td>3.671461</td>\n",
       "    </tr>\n",
       "    <tr>\n",
       "      <th>4</th>\n",
       "      <td>session154</td>\n",
       "      <td>iaa_pub10739_.jpg</td>\n",
       "      <td>3.220000</td>\n",
       "      <td>3.412000</td>\n",
       "      <td>session154_iaa_pub10739_.jpg</td>\n",
       "      <td>test</td>\n",
       "      <td>3.012406</td>\n",
       "    </tr>\n",
       "    <tr>\n",
       "      <th>...</th>\n",
       "      <td>...</td>\n",
       "      <td>...</td>\n",
       "      <td>...</td>\n",
       "      <td>...</td>\n",
       "      <td>...</td>\n",
       "      <td>...</td>\n",
       "      <td>...</td>\n",
       "    </tr>\n",
       "    <tr>\n",
       "      <th>4678</th>\n",
       "      <td>session161</td>\n",
       "      <td>iaa_pub11260_.jpg</td>\n",
       "      <td>2.568966</td>\n",
       "      <td>2.806897</td>\n",
       "      <td>session161_iaa_pub11260_.jpg</td>\n",
       "      <td>test</td>\n",
       "      <td>2.649434</td>\n",
       "    </tr>\n",
       "    <tr>\n",
       "      <th>4679</th>\n",
       "      <td>session188</td>\n",
       "      <td>iaa_pub13123_.jpg</td>\n",
       "      <td>3.055556</td>\n",
       "      <td>3.181481</td>\n",
       "      <td>session188_iaa_pub13123_.jpg</td>\n",
       "      <td>test</td>\n",
       "      <td>2.838314</td>\n",
       "    </tr>\n",
       "    <tr>\n",
       "      <th>4680</th>\n",
       "      <td>session438</td>\n",
       "      <td>iaa_pub30652_.jpg</td>\n",
       "      <td>2.846154</td>\n",
       "      <td>3.134615</td>\n",
       "      <td>session438_iaa_pub30652_.jpg</td>\n",
       "      <td>test</td>\n",
       "      <td>3.135697</td>\n",
       "    </tr>\n",
       "    <tr>\n",
       "      <th>4681</th>\n",
       "      <td>session313</td>\n",
       "      <td>iaa_pub21897_.jpg</td>\n",
       "      <td>3.340000</td>\n",
       "      <td>3.424000</td>\n",
       "      <td>session313_iaa_pub21897_.jpg</td>\n",
       "      <td>test</td>\n",
       "      <td>3.016371</td>\n",
       "    </tr>\n",
       "    <tr>\n",
       "      <th>4682</th>\n",
       "      <td>session142</td>\n",
       "      <td>iaa_pub9937_.jpg</td>\n",
       "      <td>2.540000</td>\n",
       "      <td>2.704000</td>\n",
       "      <td>session142_iaa_pub9937_.jpg</td>\n",
       "      <td>test</td>\n",
       "      <td>2.236943</td>\n",
       "    </tr>\n",
       "  </tbody>\n",
       "</table>\n",
       "<p>4683 rows × 7 columns</p>\n",
       "</div>"
      ],
      "text/plain": [
       "       sessionId          imageName  aestheticScore  qualityScore  \\\n",
       "0      session46   iaa_pub3212_.jpg        3.596154      3.673077   \n",
       "1     session428  iaa_pub29948_.jpg        2.900000      3.008000   \n",
       "2     session108   iaa_pub7516_.jpg        2.360000      2.496000   \n",
       "3      session23   iaa_pub1608_.jpg        3.940000      4.040000   \n",
       "4     session154  iaa_pub10739_.jpg        3.220000      3.412000   \n",
       "...          ...                ...             ...           ...   \n",
       "4678  session161  iaa_pub11260_.jpg        2.568966      2.806897   \n",
       "4679  session188  iaa_pub13123_.jpg        3.055556      3.181481   \n",
       "4680  session438  iaa_pub30652_.jpg        2.846154      3.134615   \n",
       "4681  session313  iaa_pub21897_.jpg        3.340000      3.424000   \n",
       "4682  session142   iaa_pub9937_.jpg        2.540000      2.704000   \n",
       "\n",
       "               sessionId_imageName   set  pred_aesthetic  \n",
       "0       session46_iaa_pub3212_.jpg  test        3.146431  \n",
       "1     session428_iaa_pub29948_.jpg  test        3.110600  \n",
       "2      session108_iaa_pub7516_.jpg  test        2.454775  \n",
       "3       session23_iaa_pub1608_.jpg  test        3.671461  \n",
       "4     session154_iaa_pub10739_.jpg  test        3.012406  \n",
       "...                            ...   ...             ...  \n",
       "4678  session161_iaa_pub11260_.jpg  test        2.649434  \n",
       "4679  session188_iaa_pub13123_.jpg  test        2.838314  \n",
       "4680  session438_iaa_pub30652_.jpg  test        3.135697  \n",
       "4681  session313_iaa_pub21897_.jpg  test        3.016371  \n",
       "4682   session142_iaa_pub9937_.jpg  test        2.236943  \n",
       "\n",
       "[4683 rows x 7 columns]"
      ]
     },
     "execution_count": 10,
     "metadata": {},
     "output_type": "execute_result"
    }
   ],
   "source": [
    "ids_copy = ids.copy(deep=True)\n",
    "ids_copy\n",
    "\n",
    "predict_aesthetic = []\n",
    "# predict_quality = []\n",
    "\n",
    "test_list = ids_copy[ids_copy.set=='test']\n",
    "test_list = test_list.sessionId_imageName.to_list()\n",
    "test_list\n",
    "\n",
    "for i in range(len(test_list)):\n",
    "    image_path = images_path + test_list[i]\n",
    "    I = pre( img.read_image(image_path) )\n",
    "    I = np.expand_dims(I, 0)\n",
    "    I_score = helper.model.predict(I)\n",
    "\n",
    "    predict_aesthetic.append(I_score[0][0])\n",
    "    # predict_quality.append(I_score[1][0])\n",
    "\n",
    "test_df = ids_copy[ids_copy.set=='test'].copy(deep=True)\n",
    "test_df = test_df.assign(pred_aesthetic = predict_aesthetic)\n",
    "# test_df = test_df.assign(pred_quality = predict_quality)\n",
    "test_df['pred_aesthetic'] = test_df.pred_aesthetic.astype(float)\n",
    "# test_df['pred_quality'] = test_df.pred_quality.astype(float)\n",
    "test_df.reset_index(inplace=True, drop=True)\n",
    "test_df.to_csv('PARA_MTAIQ_All_User_aestheticScore_baseline_Results.csv', index=False)\n",
    "test_df"
   ]
  },
  {
   "cell_type": "code",
   "execution_count": 7,
   "metadata": {},
   "outputs": [
    {
     "name": "stdout",
     "output_type": "stream",
     "text": [
      "SRCC/PLCC 0.882/0.917\n"
     ]
    },
    {
     "data": {
      "text/plain": [
       "Text(0.5, 0.98, 'Aesthetic Score Ground truth - Prediction')"
      ]
     },
     "execution_count": 7,
     "metadata": {},
     "output_type": "execute_result"
    },
    {
     "data": {
      "image/png": "[encoded data removed]",
      "text/plain": [
       "<Figure size 640x480 with 1 Axes>"
      ]
     },
     "metadata": {},
     "output_type": "display_data"
    },
    {
     "data": {
      "text/plain": [
       "<Figure size 640x480 with 0 Axes>"
      ]
     },
     "metadata": {},
     "output_type": "display_data"
    }
   ],
   "source": [
    "y_test = np.array(test_df.loc[:, 'aestheticScore'])\n",
    "y_pred = np.array(test_df.loc[:, 'pred_aesthetic'])\n",
    "\n",
    "SRCC_test = round(srocc(y_pred, y_test), 3)\n",
    "PLCC_test = round(plcc(y_pred, y_test), 3)\n",
    "print('SRCC/PLCC {}/{}'.format(SRCC_test, PLCC_test))\n",
    "\n",
    "import matplotlib.pyplot as plt\n",
    "plt.plot(y_pred, y_test, '.', markersize=0.5)\n",
    "plt.xlabel('predicted'); plt.ylabel('ground-truth'); plt.show\n",
    "fig = plt.figure()\n",
    "fig.suptitle('Aesthetic Score Ground truth - Prediction')"
   ]
  },
  {
   "cell_type": "code",
   "execution_count": 8,
   "metadata": {},
   "outputs": [
    {
     "name": "stdout",
     "output_type": "stream",
     "text": [
      "The accuracy of our Predicted Aesthetic Score: 77.0%\n"
     ]
    }
   ],
   "source": [
    "aesthetic_acc = r2_score(test_df[\"aestheticScore\"], test_df[\"pred_aesthetic\"])\n",
    "# pred_quality = r2_score(test_df[\"qualityScore\"], test_df[\"pred_quality\"])\n",
    "\n",
    "print(\"The accuracy of our Predicted Aesthetic Score: {}%\".format(round(aesthetic_acc, 2) *100))\n",
    "# print(\"The accuracy of our Predicted Quality Score: {}%\".format(round(pred_quality, 2) *100))"
   ]
  },
  {
   "attachments": {},
   "cell_type": "markdown",
   "metadata": {},
   "source": [
    "### Quality Score Prediction"
   ]
  },
  {
   "cell_type": "code",
   "execution_count": 6,
   "metadata": {},
   "outputs": [
    {
     "name": "stdout",
     "output_type": "stream",
     "text": [
      "Loading InceptionResNetV2 multi-pooled with input_shape: (None, None, 3)\n",
      "Creating multi-pooled model\n",
      "InceptionResNetV2 loaded\n",
      "Model weights loaded: /mnt/956cc712-57b2-4a24-b574-3a113e957774/Ian_temp/models_all_user_qualityScore_baseline/irnv2_mlsp_wide_orig/bn:2 bsz:128 do:[0.25,0.25,0.5,0] ds:[PARA_MTAIQ_All_User_official_da fc1:[2048] i:1[5,5,16928] im:[orig] l:[MSE] mon:[val_plcc_tf] o:1[1]_best_weights.h5\n"
     ]
    }
   ],
   "source": [
    "# load base model\n",
    "model_name = 'mlsp_wide_orig'\n",
    "input_shape = (None, None, 3)\n",
    "model_base = model_inceptionresnet_pooled(input_shape)\n",
    "pre = apps.process_input[apps.InceptionResNetV2]\n",
    "print(\"InceptionResNetV2 loaded\")\n",
    "\n",
    "# MODEL DEF\n",
    "input_feats = Input(shape=(5,5,16928), dtype='float32')\n",
    "x = apps.inception_block(input_feats, size=1024)\n",
    "x = GlobalAveragePooling2D(name='final_GAP')(x)\n",
    "\n",
    "fc1_size = 2048\n",
    "bn = 2\n",
    "fc_sizes = [fc1_size, fc1_size/2, fc1_size/8,  1]\n",
    "dropout_rates = [0.25, 0.25, 0.5, 0]\n",
    "\n",
    "# pred_aesthetic = apps.fc_layers(x, name       = 'head_aesthetic',\n",
    "#                                 fc_sizes      = fc_sizes,\n",
    "#                                 dropout_rates = dropout_rates,\n",
    "#                                 batch_norm    = bn)\n",
    "\n",
    "pred_quality = apps.fc_layers(x, name       = 'head_quality',\n",
    "                              fc_sizes      = fc_sizes,\n",
    "                              dropout_rates = dropout_rates,\n",
    "                              batch_norm    = bn)                          \n",
    "\n",
    "model = Model(inputs=input_feats, outputs=pred_quality) #\n",
    "\n",
    "gen_params = dict(batch_size    = 1,\n",
    "                  data_path     = images_path,                  \n",
    "                  process_fn    = pre,\n",
    "                  input_shape   = input_shape,\n",
    "                  inputs        = ['sessionId_imageName'],\n",
    "                  outputs       = ['qualityScore'], \n",
    "                  fixed_batches = False)\n",
    "\n",
    "helper = mh.ModelHelper(model, model_name, ids, \n",
    "                        gen_params = gen_params)\n",
    "\n",
    "# print(helper.params.models_roots)\n",
    "# load head model\n",
    "helper.load_model(model_name = '/mnt/956cc712-57b2-4a24-b574-3a113e957774/Ian_temp/models_all_user_qualityScore_baseline/irnv2_mlsp_wide_orig/bn:2 bsz:128 do:[0.25,0.25,0.5,0] ds:[PARA_MTAIQ_All_User_official_da fc1:[2048] i:1[5,5,16928] im:[orig] l:[MSE] mon:[val_plcc_tf] o:1[1]')\n",
    "\n",
    "# join base and head models\n",
    "helper.model = Model(inputs  = model_base.input, \n",
    "                     outputs = model(model_base.output))"
   ]
  },
  {
   "cell_type": "code",
   "execution_count": 7,
   "metadata": {},
   "outputs": [
    {
     "name": "stderr",
     "output_type": "stream",
     "text": [
      "2023-02-07 02:03:04.873334: I tensorflow/stream_executor/cuda/cuda_dnn.cc:368] Loaded cuDNN version 8201\n",
      "2023-02-07 02:03:05.135519: W tensorflow/stream_executor/gpu/asm_compiler.cc:111] *** WARNING *** You are using ptxas 10.0.145, which is older than 11.1. ptxas before 11.1 is known to miscompile XLA code, leading to incorrect results or invalid-address errors.\n",
      "\n",
      "You may not need to update to CUDA 11.1; cherry-picking the ptxas binary is often sufficient.\n"
     ]
    },
    {
     "data": {
      "text/html": [
       "<div>\n",
       "<style scoped>\n",
       "    .dataframe tbody tr th:only-of-type {\n",
       "        vertical-align: middle;\n",
       "    }\n",
       "\n",
       "    .dataframe tbody tr th {\n",
       "        vertical-align: top;\n",
       "    }\n",
       "\n",
       "    .dataframe thead th {\n",
       "        text-align: right;\n",
       "    }\n",
       "</style>\n",
       "<table border=\"1\" class=\"dataframe\">\n",
       "  <thead>\n",
       "    <tr style=\"text-align: right;\">\n",
       "      <th></th>\n",
       "      <th>sessionId</th>\n",
       "      <th>imageName</th>\n",
       "      <th>aestheticScore</th>\n",
       "      <th>qualityScore</th>\n",
       "      <th>sessionId_imageName</th>\n",
       "      <th>set</th>\n",
       "      <th>pred_quality</th>\n",
       "    </tr>\n",
       "  </thead>\n",
       "  <tbody>\n",
       "    <tr>\n",
       "      <th>0</th>\n",
       "      <td>session46</td>\n",
       "      <td>iaa_pub3212_.jpg</td>\n",
       "      <td>3.596154</td>\n",
       "      <td>3.673077</td>\n",
       "      <td>session46_iaa_pub3212_.jpg</td>\n",
       "      <td>test</td>\n",
       "      <td>3.496567</td>\n",
       "    </tr>\n",
       "    <tr>\n",
       "      <th>1</th>\n",
       "      <td>session428</td>\n",
       "      <td>iaa_pub29948_.jpg</td>\n",
       "      <td>2.900000</td>\n",
       "      <td>3.008000</td>\n",
       "      <td>session428_iaa_pub29948_.jpg</td>\n",
       "      <td>test</td>\n",
       "      <td>3.415417</td>\n",
       "    </tr>\n",
       "    <tr>\n",
       "      <th>2</th>\n",
       "      <td>session108</td>\n",
       "      <td>iaa_pub7516_.jpg</td>\n",
       "      <td>2.360000</td>\n",
       "      <td>2.496000</td>\n",
       "      <td>session108_iaa_pub7516_.jpg</td>\n",
       "      <td>test</td>\n",
       "      <td>2.729694</td>\n",
       "    </tr>\n",
       "    <tr>\n",
       "      <th>3</th>\n",
       "      <td>session23</td>\n",
       "      <td>iaa_pub1608_.jpg</td>\n",
       "      <td>3.940000</td>\n",
       "      <td>4.040000</td>\n",
       "      <td>session23_iaa_pub1608_.jpg</td>\n",
       "      <td>test</td>\n",
       "      <td>3.791345</td>\n",
       "    </tr>\n",
       "    <tr>\n",
       "      <th>4</th>\n",
       "      <td>session154</td>\n",
       "      <td>iaa_pub10739_.jpg</td>\n",
       "      <td>3.220000</td>\n",
       "      <td>3.412000</td>\n",
       "      <td>session154_iaa_pub10739_.jpg</td>\n",
       "      <td>test</td>\n",
       "      <td>3.074571</td>\n",
       "    </tr>\n",
       "    <tr>\n",
       "      <th>...</th>\n",
       "      <td>...</td>\n",
       "      <td>...</td>\n",
       "      <td>...</td>\n",
       "      <td>...</td>\n",
       "      <td>...</td>\n",
       "      <td>...</td>\n",
       "      <td>...</td>\n",
       "    </tr>\n",
       "    <tr>\n",
       "      <th>4678</th>\n",
       "      <td>session161</td>\n",
       "      <td>iaa_pub11260_.jpg</td>\n",
       "      <td>2.568966</td>\n",
       "      <td>2.806897</td>\n",
       "      <td>session161_iaa_pub11260_.jpg</td>\n",
       "      <td>test</td>\n",
       "      <td>2.793045</td>\n",
       "    </tr>\n",
       "    <tr>\n",
       "      <th>4679</th>\n",
       "      <td>session188</td>\n",
       "      <td>iaa_pub13123_.jpg</td>\n",
       "      <td>3.055556</td>\n",
       "      <td>3.181481</td>\n",
       "      <td>session188_iaa_pub13123_.jpg</td>\n",
       "      <td>test</td>\n",
       "      <td>3.210915</td>\n",
       "    </tr>\n",
       "    <tr>\n",
       "      <th>4680</th>\n",
       "      <td>session438</td>\n",
       "      <td>iaa_pub30652_.jpg</td>\n",
       "      <td>2.846154</td>\n",
       "      <td>3.134615</td>\n",
       "      <td>session438_iaa_pub30652_.jpg</td>\n",
       "      <td>test</td>\n",
       "      <td>3.173793</td>\n",
       "    </tr>\n",
       "    <tr>\n",
       "      <th>4681</th>\n",
       "      <td>session313</td>\n",
       "      <td>iaa_pub21897_.jpg</td>\n",
       "      <td>3.340000</td>\n",
       "      <td>3.424000</td>\n",
       "      <td>session313_iaa_pub21897_.jpg</td>\n",
       "      <td>test</td>\n",
       "      <td>3.243270</td>\n",
       "    </tr>\n",
       "    <tr>\n",
       "      <th>4682</th>\n",
       "      <td>session142</td>\n",
       "      <td>iaa_pub9937_.jpg</td>\n",
       "      <td>2.540000</td>\n",
       "      <td>2.704000</td>\n",
       "      <td>session142_iaa_pub9937_.jpg</td>\n",
       "      <td>test</td>\n",
       "      <td>2.413319</td>\n",
       "    </tr>\n",
       "  </tbody>\n",
       "</table>\n",
       "<p>4683 rows × 7 columns</p>\n",
       "</div>"
      ],
      "text/plain": [
       "       sessionId          imageName  aestheticScore  qualityScore  \\\n",
       "0      session46   iaa_pub3212_.jpg        3.596154      3.673077   \n",
       "1     session428  iaa_pub29948_.jpg        2.900000      3.008000   \n",
       "2     session108   iaa_pub7516_.jpg        2.360000      2.496000   \n",
       "3      session23   iaa_pub1608_.jpg        3.940000      4.040000   \n",
       "4     session154  iaa_pub10739_.jpg        3.220000      3.412000   \n",
       "...          ...                ...             ...           ...   \n",
       "4678  session161  iaa_pub11260_.jpg        2.568966      2.806897   \n",
       "4679  session188  iaa_pub13123_.jpg        3.055556      3.181481   \n",
       "4680  session438  iaa_pub30652_.jpg        2.846154      3.134615   \n",
       "4681  session313  iaa_pub21897_.jpg        3.340000      3.424000   \n",
       "4682  session142   iaa_pub9937_.jpg        2.540000      2.704000   \n",
       "\n",
       "               sessionId_imageName   set  pred_quality  \n",
       "0       session46_iaa_pub3212_.jpg  test      3.496567  \n",
       "1     session428_iaa_pub29948_.jpg  test      3.415417  \n",
       "2      session108_iaa_pub7516_.jpg  test      2.729694  \n",
       "3       session23_iaa_pub1608_.jpg  test      3.791345  \n",
       "4     session154_iaa_pub10739_.jpg  test      3.074571  \n",
       "...                            ...   ...           ...  \n",
       "4678  session161_iaa_pub11260_.jpg  test      2.793045  \n",
       "4679  session188_iaa_pub13123_.jpg  test      3.210915  \n",
       "4680  session438_iaa_pub30652_.jpg  test      3.173793  \n",
       "4681  session313_iaa_pub21897_.jpg  test      3.243270  \n",
       "4682   session142_iaa_pub9937_.jpg  test      2.413319  \n",
       "\n",
       "[4683 rows x 7 columns]"
      ]
     },
     "execution_count": 7,
     "metadata": {},
     "output_type": "execute_result"
    }
   ],
   "source": [
    "ids_copy = ids.copy(deep=True)\n",
    "ids_copy\n",
    "\n",
    "# predict_aesthetic = []\n",
    "predict_quality = []\n",
    "\n",
    "test_list = ids_copy[ids_copy.set=='test']\n",
    "test_list = test_list.sessionId_imageName.to_list()\n",
    "test_list\n",
    "\n",
    "for i in range(len(test_list)):\n",
    "    image_path = images_path + test_list[i]\n",
    "    I = pre( img.read_image(image_path) )\n",
    "    I = np.expand_dims(I, 0)\n",
    "    I_score = helper.model.predict(I)\n",
    "\n",
    "    # predict_aesthetic.append(I_score[0][0])\n",
    "    predict_quality.append(I_score[0][0])\n",
    "\n",
    "test_df = ids_copy[ids_copy.set=='test'].copy(deep=True)\n",
    "# test_df = test_df.assign(pred_aesthetic = predict_aesthetic)\n",
    "test_df = test_df.assign(pred_quality = predict_quality)\n",
    "# test_df['pred_aesthetic'] = test_df.pred_aesthetic.astype(float)\n",
    "test_df['pred_quality'] = test_df.pred_quality.astype(float)\n",
    "test_df.reset_index(inplace=True, drop=True)\n",
    "test_df.to_csv('PARA_MTAIQ_All_User_qualityScore_baseline_Results.csv', index=False)\n",
    "test_df"
   ]
  },
  {
   "cell_type": "code",
   "execution_count": 9,
   "metadata": {},
   "outputs": [
    {
     "name": "stdout",
     "output_type": "stream",
     "text": [
      "SRCC/PLCC 0.866/0.914\n"
     ]
    },
    {
     "data": {
      "text/plain": [
       "Text(0.5, 0.98, 'Quality Score Ground truth - Prediction')"
      ]
     },
     "execution_count": 9,
     "metadata": {},
     "output_type": "execute_result"
    },
    {
     "data": {
      "image/png": "[encoded data removed]",
      "text/plain": [
       "<Figure size 640x480 with 1 Axes>"
      ]
     },
     "metadata": {},
     "output_type": "display_data"
    },
    {
     "data": {
      "text/plain": [
       "<Figure size 640x480 with 0 Axes>"
      ]
     },
     "metadata": {},
     "output_type": "display_data"
    }
   ],
   "source": [
    "y_test = np.array(test_df.loc[:, 'qualityScore'])\n",
    "y_pred = np.array(test_df.loc[:, 'pred_quality'])\n",
    "\n",
    "SRCC_test = round(srocc(y_pred, y_test), 3)\n",
    "PLCC_test = round(plcc(y_pred, y_test), 3)\n",
    "print('SRCC/PLCC {}/{}'.format(SRCC_test, PLCC_test))\n",
    "\n",
    "import matplotlib.pyplot as plt\n",
    "plt.plot(y_pred, y_test, '.', markersize=0.5)\n",
    "plt.xlabel('predicted'); plt.ylabel('ground-truth'); plt.show\n",
    "fig = plt.figure()\n",
    "fig.suptitle('Quality Score Ground truth - Prediction')"
   ]
  },
  {
   "cell_type": "code",
   "execution_count": 10,
   "metadata": {},
   "outputs": [
    {
     "name": "stdout",
     "output_type": "stream",
     "text": [
      "The accuracy of our Predicted Quality Score: 78.0%\n"
     ]
    }
   ],
   "source": [
    "# aesthetic_acc = r2_score(test_df[\"aestheticScore\"], test_df[\"pred_aesthetic\"])\n",
    "pred_quality = r2_score(test_df[\"qualityScore\"], test_df[\"pred_quality\"])\n",
    "\n",
    "# print(\"The accuracy of our Predicted Aesthetic Score: {}%\".format(round(aesthetic_acc, 2) *100))\n",
    "print(\"The accuracy of our Predicted Quality Score: {}%\".format(round(pred_quality, 2) *100))"
   ]
  }
 ],
 "metadata": {
  "accelerator": "GPU",
  "colab": {
   "collapsed_sections": [],
   "include_colab_link": true,
   "machine_shape": "hm",
   "name": "AVA-MLSP demo",
   "provenance": []
  },
  "kernelspec": {
   "display_name": "Python 3",
   "language": "python",
   "name": "python3"
  },
  "language_info": {
   "codemirror_mode": {
    "name": "ipython",
    "version": 3
   },
   "file_extension": ".py",
   "mimetype": "text/x-python",
   "name": "python",
   "nbconvert_exporter": "python",
   "pygments_lexer": "ipython3",
   "version": "3.10.8 (main, Nov 24 2022, 14:13:03) [GCC 11.2.0]"
  },
  "vscode": {
   "interpreter": {
    "hash": "f336c55dc04d10e265d1690e1fac509afec4a033c9a262091c183b4c57cacd85"
   }
  }
 },
 "nbformat": 4,
 "nbformat_minor": 4
}
